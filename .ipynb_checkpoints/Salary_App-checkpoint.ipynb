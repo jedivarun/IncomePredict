{
 "cells": [
  {
   "cell_type": "code",
   "execution_count": 1,
   "id": "6600e8c4",
   "metadata": {},
   "outputs": [],
   "source": [
    "import numpy as np\n",
    "import pandas as pd\n",
    "import pickle \n",
    "import streamlit as st\n",
    "\n",
    "pickle_a=open(\"salary_predict.pickle\",\"rb\")\n",
    "regressor=pickle.load(pickle_a) # our model"
   ]
  },
  {
   "cell_type": "code",
   "execution_count": 2,
   "id": "715d1c27",
   "metadata": {},
   "outputs": [],
   "source": [
    "def predict_income(YearsExperience):\n",
    "    prediction=regressor.predict([[YearsExperience]]) #predictions using our model\n",
    "    return prediction"
   ]
  },
  {
   "cell_type": "code",
   "execution_count": 3,
   "id": "d650f4b2",
   "metadata": {},
   "outputs": [
    {
     "name": "stderr",
     "output_type": "stream",
     "text": [
      "2023-01-16 11:17:21.296 \n",
      "  \u001b[33m\u001b[1mWarning:\u001b[0m to view this Streamlit app on a browser, run it with the following\n",
      "  command:\n",
      "\n",
      "    streamlit run /Users/varundinesh/opt/anaconda3/lib/python3.9/site-packages/ipykernel_launcher.py [ARGUMENTS]\n"
     ]
    }
   ],
   "source": [
    "def main():\n",
    "    st.title(\"Income prediction APP using ML\") #simple title for the app\n",
    "    html_temp=\"\"\"\n",
    "        <div>\n",
    "        <h2>Income Prediction ML app</h2>\n",
    "        </div>\n",
    "        \"\"\"\n",
    "    st.markdown(html_temp,unsafe_allow_html=True) #a simple html \n",
    "    YearsExperience=st.text_input(\"GRE Score\") #giving inputs as used in building the model\n",
    "    result=\"\"\n",
    "    if st.button(\"Predict\"):\n",
    "        result=predict_income(YearsExperience) #result will be displayed if button is pressed\n",
    "    st.success(\"Expected Income for this level of experience is {}\".format(result))\n",
    "        \n",
    "if __name__=='__main__':\n",
    "    main()"
   ]
  },
  {
   "cell_type": "code",
   "execution_count": null,
   "id": "d7f6f542",
   "metadata": {},
   "outputs": [],
   "source": []
  }
 ],
 "metadata": {
  "kernelspec": {
   "display_name": "Python 3 (ipykernel)",
   "language": "python",
   "name": "python3"
  },
  "language_info": {
   "codemirror_mode": {
    "name": "ipython",
    "version": 3
   },
   "file_extension": ".py",
   "mimetype": "text/x-python",
   "name": "python",
   "nbconvert_exporter": "python",
   "pygments_lexer": "ipython3",
   "version": "3.9.13"
  }
 },
 "nbformat": 4,
 "nbformat_minor": 5
}
